{
 "cells": [
  {
   "cell_type": "markdown",
   "metadata": {},
   "source": [
    "# Inversion de control (IoC)\n",
    "\n",
    "Es un principio de diseño en que el flujo de la ejecución se invierte respecto a los métodos tradicionales de programación.\n",
    "En la forma tradicional, el programador indica la secuencia de decisiones y procedimientos, haciendo los llamados a las funciones que hagan falta.\n",
    "En inversión de control, en cambio, el programador le entrega el control a un ente externo, dándole la información necesaria para realizar la tarea, por lo que además se logra una mejor reutilización de código.\n",
    "\n",
    "Este principio se ve aplicado en patrones de diseño (strategy, template) y también en la **inyección de dependencias**.\n",
    "\n",
    "# Inyección de dependencias\n",
    "\n",
    "Consiste en **entregar a otra función** objetos o funciones de los que depende. Esto permite, en última instancia, tener un código más desacoplado, fácil de mantener y testear. "
   ]
  },
  {
   "cell_type": "markdown",
   "metadata": {},
   "source": [
    "### Ejemplo de código: calcular el reajuste de precios según IPC o UF."
   ]
  },
  {
   "cell_type": "code",
   "execution_count": 1,
   "metadata": {},
   "outputs": [],
   "source": [
    "total_amount = 1000\n",
    "months = 3"
   ]
  },
  {
   "cell_type": "code",
   "execution_count": 2,
   "metadata": {},
   "outputs": [
    {
     "ename": "TypeError",
     "evalue": "IPCReadjust.__init__() missing 1 required positional argument: 'indicator_service'",
     "output_type": "error",
     "traceback": [
      "\u001b[0;31m---------------------------------------------------------------------------\u001b[0m",
      "\u001b[0;31mTypeError\u001b[0m                                 Traceback (most recent call last)",
      "Cell \u001b[0;32mIn [2], line 3\u001b[0m\n\u001b[1;32m      1\u001b[0m \u001b[38;5;28;01mfrom\u001b[39;00m \u001b[38;5;21;01mreadjust\u001b[39;00m\u001b[38;5;21;01m.\u001b[39;00m\u001b[38;5;21;01mreadjuster\u001b[39;00m \u001b[38;5;28;01mimport\u001b[39;00m IPCReadjust, Readjuster\n\u001b[0;32m----> 3\u001b[0m readjust_calculator \u001b[38;5;241m=\u001b[39m \u001b[43mIPCReadjust\u001b[49m\u001b[43m(\u001b[49m\u001b[43m)\u001b[49m\n\u001b[1;32m      5\u001b[0m readjuster \u001b[38;5;241m=\u001b[39m Readjuster(total_amount, months, readjust_calculator)\n\u001b[1;32m      7\u001b[0m \u001b[38;5;28mprint\u001b[39m(\u001b[38;5;124mf\u001b[39m\u001b[38;5;124m\"\u001b[39m\u001b[38;5;124mNuevo monto: \u001b[39m\u001b[38;5;132;01m{\u001b[39;00mreadjuster\u001b[38;5;241m.\u001b[39mcalculate()\u001b[38;5;132;01m}\u001b[39;00m\u001b[38;5;124m\"\u001b[39m)\n",
      "\u001b[0;31mTypeError\u001b[0m: IPCReadjust.__init__() missing 1 required positional argument: 'indicator_service'"
     ]
    }
   ],
   "source": [
    "from readjust.readjuster import IPCReadjust, Readjuster\n",
    "\n",
    "readjust_calculator = IPCReadjust()\n",
    "\n",
    "readjuster = Readjuster(total_amount, months, readjust_calculator)\n",
    "\n",
    "print(f\"Nuevo monto: {readjuster.calculate()}\")"
   ]
  },
  {
   "cell_type": "code",
   "execution_count": null,
   "metadata": {},
   "outputs": [
    {
     "name": "stdout",
     "output_type": "stream",
     "text": [
      "Nuevo monto: 1035.4\n"
     ]
    }
   ],
   "source": [
    "from readjust.readjuster import UFReadjust\n",
    "\n",
    "readjust_calculator = UFReadjust()\n",
    "\n",
    "readjuster = Readjuster(total_amount, months, readjust_calculator)\n",
    "\n",
    "print(f\"Nuevo monto: {readjuster.calculate()}\")"
   ]
  },
  {
   "cell_type": "markdown",
   "metadata": {},
   "source": [
    "#### Pros:\n",
    "\n",
    "- El patrón strategy permite cambiar fácilmente la **estrategia**😅 de resolución de un problema.\n",
    "- El código se escribe para interfaces y no implementaciones concretas.\n",
    "\n",
    "#### Contras:\n",
    "\n",
    "- El código es difícil de modificar\n",
    "- Las clases están muy acopladas entre si"
   ]
  },
  {
   "cell_type": "markdown",
   "metadata": {},
   "source": [
    "La inyección de dependencias nos permite separar las lógicas fácilmente, y nos da más control sobre los objetos y su comportamiento"
   ]
  },
  {
   "cell_type": "code",
   "execution_count": 3,
   "metadata": {},
   "outputs": [
    {
     "name": "stdout",
     "output_type": "stream",
     "text": [
      "Nuevo monto: 1026.0\n"
     ]
    }
   ],
   "source": [
    "from services.mindicador import MindicadorService\n",
    "from readjust.readjuster import IPCReadjust, Readjuster\n",
    "\n",
    "readjust_calculator = IPCReadjust(MindicadorService())\n",
    "\n",
    "readjuster = Readjuster(total_amount, months, readjust_calculator)\n",
    "\n",
    "print(f\"Nuevo monto: {readjuster.calculate()}\")"
   ]
  },
  {
   "cell_type": "code",
   "execution_count": 4,
   "metadata": {},
   "outputs": [
    {
     "name": "stdout",
     "output_type": "stream",
     "text": [
      "Nuevo monto: 1035.4\n"
     ]
    }
   ],
   "source": [
    "from services.mindicador import MindicadorService\n",
    "from readjust.readjuster import UFReadjust, Readjuster\n",
    "\n",
    "readjust_calculator = UFReadjust(MindicadorService())\n",
    "\n",
    "readjuster = Readjuster(total_amount, months, readjust_calculator)\n",
    "\n",
    "print(f\"Nuevo monto: {readjuster.calculate()}\")"
   ]
  },
  {
   "cell_type": "markdown",
   "metadata": {},
   "source": [
    "Ahora es más fácil intercambiar los servicios que queremos utilizar"
   ]
  },
  {
   "cell_type": "code",
   "execution_count": 1,
   "metadata": {},
   "outputs": [
    {
     "name": "stdout",
     "output_type": "stream",
     "text": [
      "Nuevo monto: 1035.4\n"
     ]
    }
   ],
   "source": [
    "from services.bancocentral import BancoCentralService\n",
    "from readjust.readjuster import UFReadjust, Readjuster\n",
    "\n",
    "total_amount = 1000\n",
    "months = 3\n",
    "\n",
    "readjust_calculator = UFReadjust(BancoCentralService())\n",
    "\n",
    "readjuster = Readjuster(total_amount, months, readjust_calculator)\n",
    "\n",
    "print(f\"Nuevo monto: {readjuster.calculate()}\")"
   ]
  },
  {
   "cell_type": "code",
   "execution_count": 3,
   "metadata": {},
   "outputs": [
    {
     "name": "stdout",
     "output_type": "stream",
     "text": [
      "Nuevo monto: 1026.0\n"
     ]
    }
   ],
   "source": [
    "from services.bancocentral import BancoCentralService\n",
    "from readjust.readjuster import IPCReadjust, Readjuster\n",
    "\n",
    "total_amount = 1000\n",
    "months = 3\n",
    "\n",
    "readjust_calculator = IPCReadjust(BancoCentralService())\n",
    "\n",
    "readjuster = Readjuster(total_amount, months, readjust_calculator)\n",
    "\n",
    "print(f\"Nuevo monto: {readjuster.calculate()}\")"
   ]
  },
  {
   "cell_type": "markdown",
   "metadata": {},
   "source": [
    "---\n",
    "\n",
    "- [Inversion of control - Wikipedia](https://en.wikipedia.org/wiki/Inversion_of_control)\n",
    "- [Inversion of Control Containers and the Dependency Injection pattern](https://martinfowler.com/articles/injection.html)\n",
    "- [Jaworski, M., & Ziadé, T. (2021). Inversion of control and dependency injection. En Expert Python Programming: Master Python by learning the best coding practices and advanced programming concepts. Packt Publishing.](https://learning.oreilly.com/library/view/expert-python-programming/9781801071109/Text/Chapter_5.xhtml#:-:text=Inversion%20of%20control%20and%20dependency%20injection)\n",
    "\n",
    "---"
   ]
  }
 ],
 "metadata": {
  "kernelspec": {
   "display_name": "Python 3.10.6 ('venv': venv)",
   "language": "python",
   "name": "python3"
  },
  "language_info": {
   "codemirror_mode": {
    "name": "ipython",
    "version": 3
   },
   "file_extension": ".py",
   "mimetype": "text/x-python",
   "name": "python",
   "nbconvert_exporter": "python",
   "pygments_lexer": "ipython3",
   "version": "3.10.6"
  },
  "orig_nbformat": 4,
  "vscode": {
   "interpreter": {
    "hash": "c08d6b9ca7fce26e00227f69f9a024b6b251ba6c213db3199bc298286b0611ff"
   }
  }
 },
 "nbformat": 4,
 "nbformat_minor": 2
}
