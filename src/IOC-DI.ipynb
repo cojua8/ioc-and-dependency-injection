{
 "cells": [
  {
   "cell_type": "code",
   "execution_count": null,
   "metadata": {},
   "outputs": [],
   "source": []
  }
 ],
 "metadata": {
  "kernelspec": {
   "display_name": "Python 3.10.6 ('venv': venv)",
   "language": "python",
   "name": "python3"
  },
  "language_info": {
   "name": "python",
   "version": "3.10.6"
  },
  "orig_nbformat": 4,
  "vscode": {
   "interpreter": {
    "hash": "100a88c685ca8ad5cf0ed690158f567a2600ca562ed25b5c3dd1f0b5ad3713f4"
   }
  }
 },
 "nbformat": 4,
 "nbformat_minor": 2
}
