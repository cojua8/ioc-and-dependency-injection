{
 "cells": [
  {
   "cell_type": "markdown",
   "metadata": {},
   "source": [
    "# Inversion de control (IoC)\n",
    "\n",
    "Es un principio de diseño en que el flujo de la ejecución se invierte respecto a los métodos tradicionales de programación.\n",
    "En la forma tradicional, el programador indica la secuencia de decisiones y procedimientos, haciendo los llamados a las funciones que hagan falta.\n",
    "En inversión de control, en cambio, el programador le entrega el control a un ente externo, dándole la información necesaria para realizar la tarea, por lo que además se logra una mejor reutilización de código.\n",
    "\n",
    "Este principio se ve aplicado en patrones de diseño (strategy, template) y también en la **inyección de dependencias**.\n",
    "\n",
    "# Inyección de dependencias\n",
    "\n",
    "Consiste en **entregar a otra función** objetos o funciones de los que depende. Esto permite, en última instancia, tener un código más desacoplado, fácil de mantener y testear. "
   ]
  },
  {
   "cell_type": "markdown",
   "metadata": {},
   "source": [
    "### Ejemplo de código: calcular el reajuste de precios según IPC o UF."
   ]
  },
  {
   "cell_type": "code",
   "execution_count": null,
   "metadata": {},
   "outputs": [],
   "source": [
    "total_amount = 1000\n",
    "months = 3"
   ]
  },
  {
   "cell_type": "code",
   "execution_count": null,
   "metadata": {},
   "outputs": [],
   "source": [
    "from readjust.readjuster import IPCReadjust, Readjuster\n",
    "\n",
    "readjust_calculator = IPCReadjust()\n",
    "\n",
    "readjuster = Readjuster(total_amount, months, readjust_calculator)\n",
    "\n",
    "print(f\"Nuevo monto: {readjuster.calculate()}\")"
   ]
  },
  {
   "cell_type": "code",
   "execution_count": null,
   "metadata": {},
   "outputs": [],
   "source": [
    "from readjust.readjuster import UFReadjust\n",
    "\n",
    "readjust_calculator = UFReadjust()\n",
    "\n",
    "readjuster = Readjuster(total_amount, months, readjust_calculator)\n",
    "\n",
    "print(f\"Nuevo monto: {readjuster.calculate()}\")"
   ]
  },
  {
   "cell_type": "markdown",
   "metadata": {},
   "source": [
    "#### Cosas buenas\n",
    "\n",
    "- El patrón strategy permite cambiar fácilmente la **estrategia**😅 de resolución de un problema.\n",
    "- El código se escribe para interfaces y no implementaciones concretas.\n",
    "\n",
    "#### Problemas:\n",
    "\n",
    "- El código es difícil de modificar\n",
    "- Las clases están muy acopladas entre si"
   ]
  },
  {
   "cell_type": "markdown",
   "metadata": {},
   "source": [
    "---\n",
    "\n",
    "- [Inversion of control - Wikipedia](https://en.wikipedia.org/wiki/Inversion_of_control)\n",
    "- [Inversion of Control Containers and the Dependency Injection pattern](https://martinfowler.com/articles/injection.html)\n",
    "- [Jaworski, M., & Ziadé, T. (2021). Inversion of control and dependency injection. En Expert Python Programming: Master Python by learning the best coding practices and advanced programming concepts. Packt Publishing.](https://learning.oreilly.com/library/view/expert-python-programming/9781801071109/Text/Chapter_5.xhtml#:-:text=Inversion%20of%20control%20and%20dependency%20injection)\n",
    "\n",
    "---"
   ]
  }
 ],
 "metadata": {
  "kernelspec": {
   "display_name": "Python 3.10.6 ('venv': venv)",
   "language": "python",
   "name": "python3"
  },
  "language_info": {
   "codemirror_mode": {
    "name": "ipython",
    "version": 3
   },
   "file_extension": ".py",
   "mimetype": "text/x-python",
   "name": "python",
   "nbconvert_exporter": "python",
   "pygments_lexer": "ipython3",
   "version": "3.10.6"
  },
  "orig_nbformat": 4,
  "vscode": {
   "interpreter": {
    "hash": "100a88c685ca8ad5cf0ed690158f567a2600ca562ed25b5c3dd1f0b5ad3713f4"
   }
  }
 },
 "nbformat": 4,
 "nbformat_minor": 2
}
